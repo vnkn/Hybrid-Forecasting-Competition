{
 "cells": [
  {
   "cell_type": "code",
   "execution_count": 2,
   "metadata": {
    "collapsed": true
   },
   "outputs": [],
   "source": [
    "import numpy as np\n",
    "import pandas as pd\n",
    "import matplotlib.pyplot as plt\n",
    "import scipy.stats as st\n",
    "np.set_printoptions(precision=2, suppress=True)\n",
    "plt.rcParams.update({'font.size': 10})"
   ]
  },
  {
   "cell_type": "code",
   "execution_count": 3,
   "metadata": {},
   "outputs": [],
   "source": [
    "save_file = open('data0928/daily_data_matrix_all_0928.npy','rb')\n",
    "raw_indicator = np.load(save_file)\n",
    "raw_preds = np.load(save_file)\n",
    "raw_conf = np.load(save_file)\n",
    "raw_wager = np.load(save_file)\n",
    "raw_se = np.load(save_file)\n",
    "raw_truth = np.load(save_file)\n",
    "raw_openday = np.load(save_file)\n",
    "raw_user_type = np.load(save_file)\n",
    "raw_user_id = np.load(save_file)\n",
    "raw_preds_age = np.load(save_file)\n",
    "save_file.close()\n",
    "\n",
    "ifps_data = pd.read_csv(\"data0928/ifps0928_refined.csv\")\n",
    "raw_ifps_type = ifps_data['type'].values\n",
    "labels = ['Volunteer', 'Turker', 'Control']"
   ]
  },
  {
   "cell_type": "code",
   "execution_count": 3,
   "metadata": {
    "collapsed": true
   },
   "outputs": [],
   "source": [
    "def corr(x, y):\n",
    "    notnan_x = ~np.isnan(x)\n",
    "    notnan_y = ~np.isnan(y)\n",
    "    x = x[notnan_x & notnan_y]\n",
    "    y = y[notnan_x & notnan_y]\n",
    "    return st.pearsonr(x, y)\n",
    "\n",
    "def marked_invalid_data_as_nan(data, openday):\n",
    "    data = np.array(data, dtype=float)\n",
    "    data[data<-0.1] = np.NAN\n",
    "    data[openday<1] = np.NAN\n",
    "    return data"
   ]
  },
  {
   "cell_type": "code",
   "execution_count": 4,
   "metadata": {},
   "outputs": [
    {
     "name": "stdout",
     "output_type": "stream",
     "text": [
      "166\n"
     ]
    }
   ],
   "source": [
    "# IFP filter\n",
    "valid_IFPs = raw_openday[59, :]>=0\n",
    "print(np.sum(valid_IFPs))\n",
    "preds = raw_preds[:, valid_IFPs]\n",
    "conf = raw_conf[:, valid_IFPs]\n",
    "se = raw_se[:, valid_IFPs]\n",
    "openday = raw_openday[:, valid_IFPs]\n",
    "preds_age = raw_preds_age[:, valid_IFPs]\n",
    "ifps_type = raw_ifps_type[valid_IFPs]\n",
    "\n",
    "# User filter\n",
    "user_type = np.array(raw_user_type)"
   ]
  },
  {
   "cell_type": "code",
   "execution_count": 7,
   "metadata": {},
   "outputs": [
    {
     "ename": "NameError",
     "evalue": "name 'marked_invalid_data_as_nan' is not defined",
     "output_type": "error",
     "traceback": [
      "\u001b[0;31m---------------------------------------------------------------------------\u001b[0m",
      "\u001b[0;31mNameError\u001b[0m                                 Traceback (most recent call last)",
      "\u001b[0;32m<ipython-input-7-ddee2858405d>\u001b[0m in \u001b[0;36m<module>\u001b[0;34m()\u001b[0m\n\u001b[0;32m----> 1\u001b[0;31m \u001b[0mmarked_preds\u001b[0m \u001b[0;34m=\u001b[0m \u001b[0mmarked_invalid_data_as_nan\u001b[0m\u001b[0;34m(\u001b[0m\u001b[0mpreds\u001b[0m\u001b[0;34m,\u001b[0m \u001b[0mopenday\u001b[0m\u001b[0;34m)\u001b[0m\u001b[0;34m\u001b[0m\u001b[0m\n\u001b[0m\u001b[1;32m      2\u001b[0m \u001b[0mmarked_conf\u001b[0m \u001b[0;34m=\u001b[0m \u001b[0mmarked_invalid_data_as_nan\u001b[0m\u001b[0;34m(\u001b[0m\u001b[0mconf\u001b[0m\u001b[0;34m,\u001b[0m \u001b[0mopenday\u001b[0m\u001b[0;34m)\u001b[0m\u001b[0;34m\u001b[0m\u001b[0m\n\u001b[1;32m      3\u001b[0m \u001b[0mmarked_se\u001b[0m \u001b[0;34m=\u001b[0m \u001b[0mmarked_invalid_data_as_nan\u001b[0m\u001b[0;34m(\u001b[0m\u001b[0mse\u001b[0m\u001b[0;34m,\u001b[0m \u001b[0mopenday\u001b[0m\u001b[0;34m)\u001b[0m\u001b[0;34m\u001b[0m\u001b[0m\n\u001b[1;32m      4\u001b[0m \u001b[0;34m\u001b[0m\u001b[0m\n\u001b[1;32m      5\u001b[0m \u001b[0;34m\u001b[0m\u001b[0m\n",
      "\u001b[0;31mNameError\u001b[0m: name 'marked_invalid_data_as_nan' is not defined"
     ]
    }
   ],
   "source": [
    "marked_preds = marked_invalid_data_as_nan(preds, openday)\n",
    "marked_conf = marked_invalid_data_as_nan(conf, openday)\n",
    "marked_se = marked_invalid_data_as_nan(se, openday)\n",
    "\n",
    "\n",
    "rel_marked_se = marked_se - np.nanmedian(marked_se, axis=2)[:, :, None]\n",
    "\n",
    "#nan_mark = 1.0 * np.ones_like(openday)\n",
    "#nan_mark[openday<-0.1] = np.NAN\n",
    "#se_marked_with_nan *= nan_mark[:, :, None]\n",
    "#avg_daily_se = np.nanmean(se_marked_with_nan, axis=0)"
   ]
  },
  {
   "cell_type": "code",
   "execution_count": 8,
   "metadata": {},
   "outputs": [
    {
     "ename": "NameError",
     "evalue": "name 'marked_conf' is not defined",
     "output_type": "error",
     "traceback": [
      "\u001b[0;31m---------------------------------------------------------------------------\u001b[0m",
      "\u001b[0;31mNameError\u001b[0m                                 Traceback (most recent call last)",
      "\u001b[0;32m<ipython-input-8-7de4cfa1fb29>\u001b[0m in \u001b[0;36m<module>\u001b[0;34m()\u001b[0m\n\u001b[1;32m      6\u001b[0m \u001b[0;32mfor\u001b[0m \u001b[0mi\u001b[0m \u001b[0;32min\u001b[0m \u001b[0mrange\u001b[0m\u001b[0;34m(\u001b[0m\u001b[0mn\u001b[0m\u001b[0;34m)\u001b[0m\u001b[0;34m:\u001b[0m\u001b[0;34m\u001b[0m\u001b[0m\n\u001b[1;32m      7\u001b[0m     \u001b[0;32mif\u001b[0m \u001b[0mopenday\u001b[0m\u001b[0;34m[\u001b[0m\u001b[0mlast_day_per_IFP\u001b[0m\u001b[0;34m[\u001b[0m\u001b[0mi\u001b[0m\u001b[0;34m]\u001b[0m\u001b[0;34m,\u001b[0m \u001b[0mi\u001b[0m\u001b[0;34m]\u001b[0m\u001b[0;34m<=\u001b[0m\u001b[0;36m0\u001b[0m\u001b[0;34m:\u001b[0m \u001b[0;32mcontinue\u001b[0m\u001b[0;34m\u001b[0m\u001b[0m\n\u001b[0;32m----> 8\u001b[0;31m     \u001b[0mfinal_conf_per_IFP_user\u001b[0m\u001b[0;34m[\u001b[0m\u001b[0mi\u001b[0m\u001b[0;34m]\u001b[0m \u001b[0;34m=\u001b[0m \u001b[0mmarked_conf\u001b[0m\u001b[0;34m[\u001b[0m\u001b[0mlast_day_per_IFP\u001b[0m\u001b[0;34m[\u001b[0m\u001b[0mi\u001b[0m\u001b[0;34m]\u001b[0m\u001b[0;34m,\u001b[0m \u001b[0mi\u001b[0m\u001b[0;34m]\u001b[0m\u001b[0;34m\u001b[0m\u001b[0m\n\u001b[0m\u001b[1;32m      9\u001b[0m     \u001b[0mfinal_preds_per_IFP_user\u001b[0m\u001b[0;34m[\u001b[0m\u001b[0mi\u001b[0m\u001b[0;34m]\u001b[0m \u001b[0;34m=\u001b[0m \u001b[0mmarked_preds\u001b[0m\u001b[0;34m[\u001b[0m\u001b[0mlast_day_per_IFP\u001b[0m\u001b[0;34m[\u001b[0m\u001b[0mi\u001b[0m\u001b[0;34m]\u001b[0m\u001b[0;34m,\u001b[0m \u001b[0mi\u001b[0m\u001b[0;34m,\u001b[0m \u001b[0;34m:\u001b[0m\u001b[0;34m,\u001b[0m \u001b[0;34m:\u001b[0m\u001b[0;34m]\u001b[0m\u001b[0;34m\u001b[0m\u001b[0m\n\u001b[1;32m     10\u001b[0m     \u001b[0mfinal_BS_per_IFP_user\u001b[0m\u001b[0;34m[\u001b[0m\u001b[0mi\u001b[0m\u001b[0;34m]\u001b[0m \u001b[0;34m=\u001b[0m \u001b[0mmarked_se\u001b[0m\u001b[0;34m[\u001b[0m\u001b[0mlast_day_per_IFP\u001b[0m\u001b[0;34m[\u001b[0m\u001b[0mi\u001b[0m\u001b[0;34m]\u001b[0m\u001b[0;34m,\u001b[0m \u001b[0mi\u001b[0m\u001b[0;34m,\u001b[0m \u001b[0;34m:\u001b[0m\u001b[0;34m]\u001b[0m\u001b[0;34m\u001b[0m\u001b[0m\n",
      "\u001b[0;31mNameError\u001b[0m: name 'marked_conf' is not defined"
     ]
    }
   ],
   "source": [
    "t, n, m, o = preds.shape\n",
    "final_conf_per_IFP_user = np.NAN * np.ones((n,m))\n",
    "final_preds_per_IFP_user = np.NAN * np.ones((n,m,o))\n",
    "final_BS_per_IFP_user = np.NAN * np.ones((n,m))\n",
    "last_day_per_IFP = np.argmax(openday, axis=0)\n",
    "for i in range(n):\n",
    "    if openday[last_day_per_IFP[i], i]<=0: continue\n",
    "    final_conf_per_IFP_user[i] = marked_conf[last_day_per_IFP[i], i]\n",
    "    final_preds_per_IFP_user[i] = marked_preds[last_day_per_IFP[i], i, :, :]\n",
    "    final_BS_per_IFP_user[i] = marked_se[last_day_per_IFP[i], i, :]\n",
    "#final_BS_per_IFP_user = se[-1]\n",
    "avg_BS_per_IFP_user = np.nanmean(marked_se, axis=0)\n",
    "print(final_BS_per_IFP_user.shape, avg_BS_per_IFP_user.shape)"
   ]
  },
  {
   "cell_type": "code",
   "execution_count": 7,
   "metadata": {},
   "outputs": [
    {
     "name": "stderr",
     "output_type": "stream",
     "text": [
      "/Users/heliaguin/anaconda/lib/python3.6/site-packages/ipykernel_launcher.py:12: RuntimeWarning: Mean of empty slice\n",
      "  if sys.path[0] == '':\n",
      "/Users/heliaguin/anaconda/lib/python3.6/site-packages/ipykernel_launcher.py:13: RuntimeWarning: Mean of empty slice\n",
      "  del sys.path[0]\n",
      "/Users/heliaguin/anaconda/lib/python3.6/site-packages/ipykernel_launcher.py:14: RuntimeWarning: Mean of empty slice\n",
      "  \n",
      "/Users/heliaguin/anaconda/lib/python3.6/site-packages/ipykernel_launcher.py:15: RuntimeWarning: Mean of empty slice\n",
      "  from ipykernel import kernelapp as app\n",
      "/Users/heliaguin/anaconda/lib/python3.6/site-packages/ipykernel_launcher.py:16: RuntimeWarning: Degrees of freedom <= 0 for slice.\n",
      "  app.launch_new_instance()\n",
      "/Users/heliaguin/anaconda/lib/python3.6/site-packages/ipykernel_launcher.py:17: RuntimeWarning: Degrees of freedom <= 0 for slice.\n"
     ]
    },
    {
     "name": "stdout",
     "output_type": "stream",
     "text": [
      "(3, 166)\n"
     ]
    },
    {
     "name": "stderr",
     "output_type": "stream",
     "text": [
      "/Users/heliaguin/anaconda/lib/python3.6/site-packages/ipykernel_launcher.py:22: RuntimeWarning: invalid value encountered in less_equal\n"
     ]
    }
   ],
   "source": [
    "open_period_per_IFP = 1.0 * np.max(openday[:,:], axis=0)\n",
    "open_period_per_IFP[open_period_per_IFP<=0] = np.NAN\n",
    "\n",
    "mean_final_preds_per_group_IFP = np.NAN * np.ones((3, n, o))\n",
    "mean_final_conf_per_group_IFP = np.zeros((3, n))\n",
    "mean_final_BS_per_group_IFP = np.zeros((3, n))\n",
    "mean_avg_BS_per_group_IFP = np.zeros((3, n))\n",
    "\n",
    "var_avg_BS_per_group_IFP = np.zeros((3, n))\n",
    "var_final_preds_per_group_IFP = np.zeros((3, n))\n",
    "for g in range(3):\n",
    "    mean_final_preds_per_group_IFP[g] = np.nanmean(final_preds_per_IFP_user[:, user_type==g+1, :], axis=1)\n",
    "    mean_final_conf_per_group_IFP[g] = np.nanmean(final_conf_per_IFP_user[:, user_type==g+1], axis=1)\n",
    "    mean_final_BS_per_group_IFP[g] = np.nanmean(final_BS_per_IFP_user[:, user_type==g+1], axis=1)\n",
    "    mean_avg_BS_per_group_IFP[g] = np.nanmean(avg_BS_per_IFP_user[:, user_type==g+1], axis=1)\n",
    "    var_avg_BS_per_group_IFP[g] = np.nanvar(avg_BS_per_IFP_user[:, user_type==g+1], axis=1)\n",
    "    tmp = np.nanvar(final_preds_per_IFP_user[:, user_type==g+1, :], axis=1)\n",
    "    var_final_preds_per_group_IFP[g] = np.nansum(tmp, axis=-1)\n",
    "    \n",
    "mean_final_preds_per_group_IFP_binary = np.NAN * np.ones((3, n))\n",
    "mean_final_preds_per_group_IFP_binary[:, ifps_type==2] = mean_final_preds_per_group_IFP[:, ifps_type==2, 0] \n",
    "var_avg_BS_per_group_IFP[var_avg_BS_per_group_IFP<=0.01] = np.NAN\n",
    "var_final_preds_per_group_IFP[var_final_preds_per_group_IFP<=0.01] = np.NAN\n",
    "print(var_final_preds_per_group_IFP.shape)"
   ]
  },
  {
   "cell_type": "code",
   "execution_count": 6,
   "metadata": {},
   "outputs": [
    {
     "ename": "NameError",
     "evalue": "name 'mean_final_BS_per_group_IFP' is not defined",
     "output_type": "error",
     "traceback": [
      "\u001b[0;31m---------------------------------------------------------------------------\u001b[0m",
      "\u001b[0;31mNameError\u001b[0m                                 Traceback (most recent call last)",
      "\u001b[0;32m<ipython-input-6-2180c536de4d>\u001b[0m in \u001b[0;36m<module>\u001b[0;34m()\u001b[0m\n\u001b[0;32m----> 1\u001b[0;31m \u001b[0morder_on_IFP\u001b[0m \u001b[0;34m=\u001b[0m \u001b[0mnp\u001b[0m\u001b[0;34m.\u001b[0m\u001b[0margsort\u001b[0m\u001b[0;34m(\u001b[0m\u001b[0mmean_final_BS_per_group_IFP\u001b[0m\u001b[0;34m[\u001b[0m\u001b[0;36m1\u001b[0m\u001b[0;34m]\u001b[0m\u001b[0;34m)\u001b[0m\u001b[0;34m\u001b[0m\u001b[0m\n\u001b[0m\u001b[1;32m      2\u001b[0m \u001b[0mplt\u001b[0m\u001b[0;34m.\u001b[0m\u001b[0mfigure\u001b[0m\u001b[0;34m(\u001b[0m\u001b[0;36m0\u001b[0m\u001b[0;34m)\u001b[0m\u001b[0;34m\u001b[0m\u001b[0m\n\u001b[1;32m      3\u001b[0m \u001b[0;32mfor\u001b[0m \u001b[0mg\u001b[0m \u001b[0;32min\u001b[0m \u001b[0mrange\u001b[0m\u001b[0;34m(\u001b[0m\u001b[0;36m3\u001b[0m\u001b[0;34m)\u001b[0m\u001b[0;34m:\u001b[0m\u001b[0;34m\u001b[0m\u001b[0m\n\u001b[1;32m      4\u001b[0m     \u001b[0mplt\u001b[0m\u001b[0;34m.\u001b[0m\u001b[0mplot\u001b[0m\u001b[0;34m(\u001b[0m\u001b[0mrange\u001b[0m\u001b[0;34m(\u001b[0m\u001b[0mn\u001b[0m\u001b[0;34m)\u001b[0m\u001b[0;34m,\u001b[0m \u001b[0mmean_final_BS_per_group_IFP\u001b[0m\u001b[0;34m[\u001b[0m\u001b[0mg\u001b[0m\u001b[0;34m]\u001b[0m\u001b[0;34m[\u001b[0m\u001b[0morder_on_IFP\u001b[0m\u001b[0;34m]\u001b[0m\u001b[0;34m,\u001b[0m \u001b[0mlabel\u001b[0m\u001b[0;34m=\u001b[0m\u001b[0mlabels\u001b[0m\u001b[0;34m[\u001b[0m\u001b[0mg\u001b[0m\u001b[0;34m]\u001b[0m\u001b[0;34m)\u001b[0m\u001b[0;34m\u001b[0m\u001b[0m\n\u001b[1;32m      5\u001b[0m     plt.plot(range(n), np.abs(0.5 - mean_final_preds_per_group_IFP_binary[g, order_on_IFP]), \n",
      "\u001b[0;31mNameError\u001b[0m: name 'mean_final_BS_per_group_IFP' is not defined"
     ]
    }
   ],
   "source": [
    "order_on_IFP = np.argsort(mean_final_BS_per_group_IFP[1])\n",
    "plt.figure(0)\n",
    "for g in range(3):\n",
    "    plt.plot(range(n), mean_final_BS_per_group_IFP[g][order_on_IFP], label=labels[g])\n",
    "    plt.plot(range(n), np.abs(0.5 - mean_final_preds_per_group_IFP_binary[g, order_on_IFP]), \n",
    "             label = \"preds-\"+labels[g]+'-binary')\n",
    "plt.legend()\n",
    "plt.show()\n",
    "\n",
    "\n",
    "order_on_IFP = np.argsort(mean_avg_BS_per_group_IFP[1])\n",
    "plt.figure(1)\n",
    "for g in range(3):\n",
    "    plt.plot(range(n), mean_avg_BS_per_group_IFP[g][order_on_IFP], label=labels[g])\n",
    "#plt.plot(range(n), var_final_preds_per_group_IFP[1][order_on_IFP], label = \"Variance\")\n",
    "#plt.plot(range(n), open_period_per_IFP[order_on_IFP]/100, label = \"open period\")\n",
    "plt.legend()\n",
    "plt.show()\n",
    "\n",
    "order_on_IFP = np.argsort(var_final_preds_per_group_IFP[1])\n",
    "plt.figure(2)\n",
    "for g in range(3):\n",
    "    plt.plot(range(n), var_final_preds_per_group_IFP[g][order_on_IFP], label=labels[g])\n",
    "#plt.plot(range(n), var_final_preds_per_group_IFP[1][order_on_IFP], label = \"Variance\")\n",
    "#plt.plot(range(n), open_period_per_IFP[order_on_IFP]/100, label = \"open period\")\n",
    "plt.legend()\n",
    "plt.show()\n",
    "plt.close('All')\n",
    "\n",
    "\n",
    "print(\"Final BS v.s. avg BS:\")\n",
    "print(corr(mean_avg_BS_per_group_IFP[0], mean_final_BS_per_group_IFP[0]))\n",
    "print(corr(mean_avg_BS_per_group_IFP[1], mean_final_BS_per_group_IFP[1]))\n",
    "print(corr(mean_avg_BS_per_group_IFP[2], mean_final_BS_per_group_IFP[2]))\n",
    "\n",
    "print(\"Correlation of final among groups:\")\n",
    "print(corr(mean_final_BS_per_group_IFP[0], mean_final_BS_per_group_IFP[1]))\n",
    "print(corr(mean_final_BS_per_group_IFP[0], mean_final_BS_per_group_IFP[2]))\n",
    "print(corr(mean_final_BS_per_group_IFP[1], mean_final_BS_per_group_IFP[2]))\n",
    "\n",
    "print(\"Correlation of avg among groups:\")\n",
    "print(corr(mean_avg_BS_per_group_IFP[0], mean_avg_BS_per_group_IFP[1]))\n",
    "print(corr(mean_avg_BS_per_group_IFP[0], mean_avg_BS_per_group_IFP[2]))\n",
    "print(corr(mean_avg_BS_per_group_IFP[1], mean_avg_BS_per_group_IFP[2]))\n",
    "\n",
    "print(\"Variance of final preds among groups:\")\n",
    "print(corr(var_final_preds_per_group_IFP[0], var_final_preds_per_group_IFP[1]))\n",
    "print(corr(var_final_preds_per_group_IFP[0], var_final_preds_per_group_IFP[2]))\n",
    "print(corr(var_final_preds_per_group_IFP[1], var_final_preds_per_group_IFP[2]))\n",
    "\n",
    "print(\"Final BS v.s. variance of final predictions:\")\n",
    "print(corr(mean_final_BS_per_group_IFP[0], var_final_preds_per_group_IFP[0]))\n",
    "print(corr(mean_final_BS_per_group_IFP[1], var_final_preds_per_group_IFP[1]))\n",
    "print(corr(mean_final_BS_per_group_IFP[2], var_final_preds_per_group_IFP[2]))\n",
    "\n",
    "print(\"Final BS v.s. confidence of final predictions:\")\n",
    "print(corr(mean_final_BS_per_group_IFP[0], mean_final_conf_per_group_IFP[0]))\n",
    "print(corr(mean_final_BS_per_group_IFP[1], mean_final_conf_per_group_IFP[1]))\n",
    "print(corr(mean_final_BS_per_group_IFP[2], mean_final_conf_per_group_IFP[2]))\n",
    "\n",
    "print(\"Variance of final preds v.s. confidence of final predictions:\")\n",
    "print(corr(var_final_preds_per_group_IFP[0], mean_final_conf_per_group_IFP[0]))\n",
    "print(corr(var_final_preds_per_group_IFP[1], mean_final_conf_per_group_IFP[1]))\n",
    "print(corr(var_final_preds_per_group_IFP[2], mean_final_conf_per_group_IFP[2]))\n",
    "\n",
    "\n",
    "\n",
    "#print(\"Avg BS v.s. variance of final predictions:\")\n",
    "#print(corr(mean_avg_BS_per_group_IFP[0], var_final_preds_per_group_IFP[0]))\n",
    "#print(corr(mean_avg_BS_per_group_IFP[1], var_final_preds_per_group_IFP[1]))\n",
    "#print(corr(mean_avg_BS_per_group_IFP[2], var_final_preds_per_group_IFP[2]))\n",
    "\n",
    "#print(corr(mean_avg_BS_per_group_IFP[0], open_period_per_IFP))\n",
    "#print(corr(mean_avg_BS_per_group_IFP[1], open_period_per_IFP))\n",
    "#print(corr(mean_avg_BS_per_group_IFP[2], open_period_per_IFP))\n",
    "\n",
    "print(\"Variance of final preds v.s. open period length\")\n",
    "print(corr(var_final_preds_per_group_IFP[0], open_period_per_IFP))\n",
    "print(corr(var_final_preds_per_group_IFP[1], open_period_per_IFP))\n",
    "print(corr(var_final_preds_per_group_IFP[2], open_period_per_IFP))\n",
    "\n",
    "\n",
    "order_on_IFP = np.argsort(var_final_preds_per_group_IFP[1])\n",
    "plt.figure(5)\n",
    "plt.plot(range(n), var_final_preds_per_group_IFP[1][order_on_IFP], label=\"Variance\")\n",
    "plt.plot(range(n), mean_final_conf_per_group_IFP[1][order_on_IFP]/100, label=\"Confidence\")\n",
    "#plt.plot(range(n), var_final_preds_per_group_IFP[1][order_on_IFP], label = \"Variance\")\n",
    "#plt.plot(range(n), open_period_per_IFP[order_on_IFP]/100, label = \"open period\")\n",
    "plt.legend()\n",
    "plt.show()\n",
    "plt.close('All')\n",
    "\n",
    "\n",
    "plt.close('All')"
   ]
  },
  {
   "cell_type": "code",
   "execution_count": null,
   "metadata": {
    "collapsed": true
   },
   "outputs": [],
   "source": []
  },
  {
   "cell_type": "code",
   "execution_count": null,
   "metadata": {
    "collapsed": true
   },
   "outputs": [],
   "source": []
  }
 ],
 "metadata": {
  "kernelspec": {
   "display_name": "Python 3",
   "language": "python",
   "name": "python3"
  },
  "language_info": {
   "codemirror_mode": {
    "name": "ipython",
    "version": 3
   },
   "file_extension": ".py",
   "mimetype": "text/x-python",
   "name": "python",
   "nbconvert_exporter": "python",
   "pygments_lexer": "ipython3",
   "version": "3.6.3"
  }
 },
 "nbformat": 4,
 "nbformat_minor": 2
}
